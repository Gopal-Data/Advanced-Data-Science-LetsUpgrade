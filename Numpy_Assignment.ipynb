{
  "nbformat": 4,
  "nbformat_minor": 0,
  "metadata": {
    "colab": {
      "name": "Numpy Assignment.ipynb",
      "provenance": [],
      "collapsed_sections": []
    },
    "kernelspec": {
      "name": "python3",
      "display_name": "Python 3"
    }
  },
  "cells": [
    {
      "cell_type": "markdown",
      "metadata": {
        "id": "t0PeVej6G08K"
      },
      "source": [
        "1) Eigenvalues and Eigenvectors of an array\r\n",
        "\r\n",
        "Eigenvalues and Eigenvectors works only on Square matrix. Eigenvectors are by definition nonzero. Eigenvalues may be equal to zero.\r\n",
        "\r\n",
        "Syntex : # np.linalg.eig(arr)\r\n",
        "\r\n"
      ]
    },
    {
      "cell_type": "code",
      "metadata": {
        "id": "Mm5GxzmXIPnJ"
      },
      "source": [
        "import numpy as np "
      ],
      "execution_count": 40,
      "outputs": []
    },
    {
      "cell_type": "code",
      "metadata": {
        "colab": {
          "base_uri": "https://localhost:8080/"
        },
        "id": "i-i5dvC1IX1e",
        "outputId": "ebd6bbb4-66bb-4f8d-fd1f-226fa488a378"
      },
      "source": [
        "arr = np.array([[1,2],[3,4]])\r\n",
        "print('Original value',arr)\r\n",
        "\r\n",
        "eigval,eigvec = np.linalg.eig(arr) \r\n",
        "print('Eigenvalues value',eigval)\r\n",
        "print('Eigenvectors value',eigvec)\r\n"
      ],
      "execution_count": 41,
      "outputs": [
        {
          "output_type": "stream",
          "text": [
            "Original value [[1 2]\n",
            " [3 4]]\n",
            "Eigenvalues value [-0.37228132  5.37228132]\n",
            "Eigenvectors value [[-0.82456484 -0.41597356]\n",
            " [ 0.56576746 -0.90937671]]\n"
          ],
          "name": "stdout"
        }
      ]
    },
    {
      "cell_type": "markdown",
      "metadata": {
        "id": "oSw4GJXdO7a2"
      },
      "source": [
        "2) digitize() \r\n",
        "\r\n",
        "Return the indices of the bins to which each value in input array belongs.\r\n",
        "\r\n",
        "Syntax : np.digitize(x, bins, right=True)\r\n",
        "\r\n",
        "Can be used to find the range in the variable of the dataframe and count of the bins.More like non visualization of histogram.\r\n"
      ]
    },
    {
      "cell_type": "code",
      "metadata": {
        "colab": {
          "base_uri": "https://localhost:8080/"
        },
        "id": "Meu59J7NP1O2",
        "outputId": "bf462c58-da30-43da-abba-fa344ab0dd6c"
      },
      "source": [
        "arr2 = np.array([1, 2, 10.0, 12.4, 15.5, 16, 17, 20,25,100]) \r\n",
        "bins = np.array([0, 5, 10, 15, 20]) #Creating the array and the range of the bins\r\n",
        "ditrue = np.digitize(arr2,bins,right=True)\r\n",
        "difalse = np.digitize(arr2,bins,right=False)\r\n",
        "print('Bins indices if right is true',ditrue)#keeps the value in previous bin if the starting range of the bin and value are same\r\n",
        "print('Bins indices if right is false',difalse) # keeps the value in same bin if the starting range of the bin and value are same"
      ],
      "execution_count": 42,
      "outputs": [
        {
          "output_type": "stream",
          "text": [
            "Bins indices if right is true [1 1 2 3 4 4 4 4 5 5]\n",
            "Bins indices if right is false [1 1 3 3 4 4 4 5 5 5]\n"
          ],
          "name": "stdout"
        }
      ]
    },
    {
      "cell_type": "markdown",
      "metadata": {
        "id": "HB_5QFReYsbv"
      },
      "source": [
        "3) Repeat()\r\n",
        "Repeat the element in the array n nunber of time as mentioned\r\n",
        "\r\n",
        "Syntex: np.repeat(a, repeats, axis=None) \r\n",
        "\r\n",
        "can be used to repeat the data in the CNN\r\n",
        "\r\n"
      ]
    },
    {
      "cell_type": "code",
      "metadata": {
        "id": "nKJxqZM3OeWj",
        "colab": {
          "base_uri": "https://localhost:8080/"
        },
        "outputId": "e2de659a-d5c9-4fc0-b474-3c4d598794c7"
      },
      "source": [
        "repeatarray = np.array([[1,2],[3,4]])\r\n",
        "repeat1= np.repeat(repeatarray,2)\r\n",
        "repeat2= np.repeat(repeatarray,5, axis=1) #Axis 1 repeats the elements in the array\r\n",
        "repeat3= np.repeat(repeatarray,5, axis=0) #Axis 0 repeats the array\r\n",
        "\r\n",
        "print(repeat1)\r\n",
        "print(repeat2)\r\n",
        "print(repeat3)"
      ],
      "execution_count": 43,
      "outputs": [
        {
          "output_type": "stream",
          "text": [
            "[1 1 2 2 3 3 4 4]\n",
            "[[1 1 1 1 1 2 2 2 2 2]\n",
            " [3 3 3 3 3 4 4 4 4 4]]\n",
            "[[1 2]\n",
            " [1 2]\n",
            " [1 2]\n",
            " [1 2]\n",
            " [1 2]\n",
            " [3 4]\n",
            " [3 4]\n",
            " [3 4]\n",
            " [3 4]\n",
            " [3 4]]\n"
          ],
          "name": "stdout"
        }
      ]
    },
    {
      "cell_type": "markdown",
      "metadata": {
        "id": "nVnwLyHwpclP"
      },
      "source": [
        "4) squeeze()\r\n",
        "\r\n",
        "syntex = np.squeeze(a, axis=None)\r\n",
        "\r\n",
        "Removes the single-dimensional entries from the shape of an array."
      ]
    },
    {
      "cell_type": "code",
      "metadata": {
        "colab": {
          "base_uri": "https://localhost:8080/"
        },
        "id": "pXirmMhNrqsk",
        "outputId": "3e248c3f-b1a2-4dc1-c317-c9ba81255645"
      },
      "source": [
        "sqarr=np.array([[[1,2,3,4,5],[6,7,8,9,10],[11,12,13,14,15]]])\r\n",
        "print(sqarr)\r\n",
        "print(sqarr.shape)\r\n",
        "squeeze = np.squeeze(sqarr)\r\n",
        "print(squeeze)\r\n",
        "print(squeeze.shape)"
      ],
      "execution_count": 44,
      "outputs": [
        {
          "output_type": "stream",
          "text": [
            "[[[ 1  2  3  4  5]\n",
            "  [ 6  7  8  9 10]\n",
            "  [11 12 13 14 15]]]\n",
            "(1, 3, 5)\n",
            "[[ 1  2  3  4  5]\n",
            " [ 6  7  8  9 10]\n",
            " [11 12 13 14 15]]\n",
            "(3, 5)\n"
          ],
          "name": "stdout"
        }
      ]
    },
    {
      "cell_type": "markdown",
      "metadata": {
        "id": "gjexqTxcxMqS"
      },
      "source": [
        "5) linspace()\r\n",
        "\r\n",
        "Syntex = np.linspace(start, stop, num=50, endpoint=True, retstep=False, dtype=None, axis=0)\r\n",
        "\r\n",
        "Creates evenly spaced array from the start ans stop"
      ]
    },
    {
      "cell_type": "code",
      "metadata": {
        "colab": {
          "base_uri": "https://localhost:8080/"
        },
        "id": "O-KfaqGc4jax",
        "outputId": "5aeedd7d-aeec-47d7-b006-c4c7bb479a03"
      },
      "source": [
        "linsp = np.linspace(1,100,num=11,retstep=True)\r\n",
        "print(linsp) #Array evenly spaced and increased by the step of 9.9 "
      ],
      "execution_count": 45,
      "outputs": [
        {
          "output_type": "stream",
          "text": [
            "(array([  1. ,  10.9,  20.8,  30.7,  40.6,  50.5,  60.4,  70.3,  80.2,\n",
            "        90.1, 100. ]), 9.9)\n"
          ],
          "name": "stdout"
        }
      ]
    },
    {
      "cell_type": "markdown",
      "metadata": {
        "id": "GglyPJYj69wl"
      },
      "source": [
        "6) clip()\r\n",
        "\r\n",
        "syntex = np.clip()\r\n",
        "\r\n",
        "Given the min and max, values outside the min and max are clipped to the interval edges.and the clipped element are refilled with the min and max.\r\n"
      ]
    },
    {
      "cell_type": "code",
      "metadata": {
        "colab": {
          "base_uri": "https://localhost:8080/"
        },
        "id": "5W0J4Sob_bXS",
        "outputId": "8a8b7ea4-9538-42d8-8237-1d0984f7d36d"
      },
      "source": [
        "cliparr = np.array([10,20,30,40,50,60,70,80,90,100]) #10 Element\r\n",
        "np.clip(cliparr,30,55) #Out also 10 Element"
      ],
      "execution_count": 46,
      "outputs": [
        {
          "output_type": "execute_result",
          "data": {
            "text/plain": [
              "array([30, 30, 30, 40, 50, 55, 55, 55, 55, 55])"
            ]
          },
          "metadata": {
            "tags": []
          },
          "execution_count": 46
        }
      ]
    },
    {
      "cell_type": "markdown",
      "metadata": {
        "id": "3xB9b9FlCIku"
      },
      "source": [
        "7)extract()\r\n",
        "\r\n",
        "syntex = np.extract()\r\n",
        "\r\n",
        "Return the elements of an array that satisfy some conditions."
      ]
    },
    {
      "cell_type": "code",
      "metadata": {
        "colab": {
          "base_uri": "https://localhost:8080/"
        },
        "id": "xOq0k9BBD4ZK",
        "outputId": "e3951768-e064-4458-cb11-e554ac567cfe"
      },
      "source": [
        "exarr = np.arange(15).reshape((3, 5))\r\n",
        "condition = exarr * 3 > 30\r\n",
        "print(condition)\r\n",
        "print(exarr)\r\n",
        "extractarray = np.extract(condition, exarr)\r\n",
        "print('Elements which satisfies the condition in the array',extractarray)"
      ],
      "execution_count": 47,
      "outputs": [
        {
          "output_type": "stream",
          "text": [
            "[[False False False False False]\n",
            " [False False False False False]\n",
            " [False  True  True  True  True]]\n",
            "[[ 0  1  2  3  4]\n",
            " [ 5  6  7  8  9]\n",
            " [10 11 12 13 14]]\n",
            "Elements which satisfies the condition in the array [11 12 13 14]\n"
          ],
          "name": "stdout"
        }
      ]
    },
    {
      "cell_type": "markdown",
      "metadata": {
        "id": "pGYMJE49TDDx"
      },
      "source": [
        "8) Argpartition()\r\n",
        "\r\n",
        "syntax = np.argpartition(a, kth, axis=-1, kind='introselect', order=None)\r\n",
        "\r\n",
        "Perform an indirect partition along the given axis using the algorithm specified by the kind keyword. It returns an array of indices of the same shape as a that index data along the given axis in partitioned order."
      ]
    },
    {
      "cell_type": "code",
      "metadata": {
        "colab": {
          "base_uri": "https://localhost:8080/"
        },
        "id": "Dzdf-ZNaTf--",
        "outputId": "5e07ebbc-9140-4642-8860-8a7af368b34c"
      },
      "source": [
        "argpar = np.array([[ 4, 1, 5], [1, 7, 0] ]) \r\n",
        "print (argpar)  \r\n",
        "argpar1 = np.argpartition(argpar, 1, axis = 1) \r\n",
        "print (\"Output of argpartition array indices :\\n \", argpar1)"
      ],
      "execution_count": 48,
      "outputs": [
        {
          "output_type": "stream",
          "text": [
            "[[4 1 5]\n",
            " [1 7 0]]\n",
            "Output of argpartition array indices :\n",
            "  [[1 0 2]\n",
            " [2 0 1]]\n"
          ],
          "name": "stdout"
        }
      ]
    },
    {
      "cell_type": "markdown",
      "metadata": {
        "id": "o2Lra1AQJPrC"
      },
      "source": [
        "9) setdiff1d()\r\n",
        "\r\n",
        "syntex =  np.setdiff1d()\r\n",
        "\r\n",
        "Function find the set difference of two arrays and return the unique values in arr1 that are not in arr2.\r\n"
      ]
    },
    {
      "cell_type": "code",
      "metadata": {
        "colab": {
          "base_uri": "https://localhost:8080/"
        },
        "id": "D_EGVdteJ0FG",
        "outputId": "dd0aa99c-546d-4734-8390-eee53e433ebf"
      },
      "source": [
        "set1= np.array([1, 2, 3, 2, 4, 5, 6, 8, 9])\r\n",
        "set2= np.array([3, 4, 5, 6])\r\n",
        "uniqueset = np.setdiff1d(set1, set2)\r\n",
        "print('Element which is not in the set2 array and unique value in set 1 array',uniqueset)"
      ],
      "execution_count": 49,
      "outputs": [
        {
          "output_type": "stream",
          "text": [
            "Element which is not in the set2 array and unique value in set 1 array [1 2 8 9]\n"
          ],
          "name": "stdout"
        }
      ]
    },
    {
      "cell_type": "markdown",
      "metadata": {
        "id": "wZwKy9pCKnSH"
      },
      "source": [
        "10) itemsize \r\n",
        "Syntex = array.itemsize\r\n",
        "Length of one array element in bytes."
      ]
    },
    {
      "cell_type": "code",
      "metadata": {
        "colab": {
          "base_uri": "https://localhost:8080/"
        },
        "id": "WY-xMakSLAmX",
        "outputId": "b6f922e4-5417-4751-a67c-a9b9125ec794"
      },
      "source": [
        "itemsize_arr = np.array([1,2,3],dtype= np.float128)\r\n",
        "print('Length of one element in the array',itemsize_arr.itemsize)"
      ],
      "execution_count": 50,
      "outputs": [
        {
          "output_type": "stream",
          "text": [
            "Length of one element in the array 16\n"
          ],
          "name": "stdout"
        }
      ]
    },
    {
      "cell_type": "markdown",
      "metadata": {
        "id": "q9I78k4jLxRX"
      },
      "source": [
        "11) hstack()\r\n",
        "\r\n",
        "syntex = numpy.hstack()\r\n",
        "\r\n",
        "Stack the arrays in sequence horizontally."
      ]
    },
    {
      "cell_type": "code",
      "metadata": {
        "colab": {
          "base_uri": "https://localhost:8080/"
        },
        "id": "bxcs9hjaNU3e",
        "outputId": "0483eb5c-7f1d-4cb3-a879-578735c914ef"
      },
      "source": [
        "hst1=np.array([1,2,3,4,5,6])\r\n",
        "hst2=np.array([7,8,9])\r\n",
        "hst3= np.hstack((hst1, hst2))\r\n",
        "print('stacked the both the array horizontally',hst3)\r\n",
        "hst4 = np.array([[1],[2],[3]])\r\n",
        "hst5 = np.array([[4],[5],[6]])\r\n",
        "hst6 = np.hstack((hst4,hst5))\r\n",
        "print('stacked the both the array horizontally',hst6)"
      ],
      "execution_count": 51,
      "outputs": [
        {
          "output_type": "stream",
          "text": [
            "stacked the both the array horizontally [1 2 3 4 5 6 7 8 9]\n",
            "stacked the both the array horizontally [[1 4]\n",
            " [2 5]\n",
            " [3 6]]\n"
          ],
          "name": "stdout"
        }
      ]
    },
    {
      "cell_type": "markdown",
      "metadata": {
        "id": "o9o6xQV8QPEJ"
      },
      "source": [
        "12) vstack()\r\n",
        "\r\n",
        "syntex = numpy.vstack()\r\n",
        "\r\n",
        "Stack arrays in sequence vertically."
      ]
    },
    {
      "cell_type": "code",
      "metadata": {
        "colab": {
          "base_uri": "https://localhost:8080/"
        },
        "id": "T4DkwqEeQbnh",
        "outputId": "53eb58f2-e8f2-4a0f-f11c-7d6ae34d5fab"
      },
      "source": [
        "vst1 = np.array([1, 2, 3])\r\n",
        "vst2 = np.array([2, 3, 4])\r\n",
        "vst3 = np.vstack((vst1,vst2))\r\n",
        "print('stacked the both the array vertically',vst3)\r\n",
        "vst4 = np.array([[1],[2],[3]])\r\n",
        "vst5 = np.array([[4],[5],[6]])\r\n",
        "vst6 = np.vstack((vst4,vst5))\r\n",
        "print('stacked the both the array vertically',vst6)"
      ],
      "execution_count": 52,
      "outputs": [
        {
          "output_type": "stream",
          "text": [
            "stacked the both the array vertically [[1 2 3]\n",
            " [2 3 4]]\n",
            "stacked the both the array vertically [[1]\n",
            " [2]\n",
            " [3]\n",
            " [4]\n",
            " [5]\n",
            " [6]]\n"
          ],
          "name": "stdout"
        }
      ]
    },
    {
      "cell_type": "markdown",
      "metadata": {
        "id": "82YFCq54SToZ"
      },
      "source": [
        "13) hsplit()\r\n",
        "\r\n",
        "syntex = np.hsplit(ary, indices_or_sections)\r\n",
        "\r\n",
        "Split an array into multiple sub-arrays horizontally."
      ]
    },
    {
      "cell_type": "code",
      "metadata": {
        "id": "w604SB20SbLo",
        "colab": {
          "base_uri": "https://localhost:8080/"
        },
        "outputId": "c9c6590c-423e-49ba-9a7e-8c6cbf621ddd"
      },
      "source": [
        "hsp = np.arange(24).reshape(6, 4)\r\n",
        "print(hsp)\r\n",
        "np.hsplit(hsp,4)"
      ],
      "execution_count": 53,
      "outputs": [
        {
          "output_type": "stream",
          "text": [
            "[[ 0  1  2  3]\n",
            " [ 4  5  6  7]\n",
            " [ 8  9 10 11]\n",
            " [12 13 14 15]\n",
            " [16 17 18 19]\n",
            " [20 21 22 23]]\n"
          ],
          "name": "stdout"
        },
        {
          "output_type": "execute_result",
          "data": {
            "text/plain": [
              "[array([[ 0],\n",
              "        [ 4],\n",
              "        [ 8],\n",
              "        [12],\n",
              "        [16],\n",
              "        [20]]), array([[ 1],\n",
              "        [ 5],\n",
              "        [ 9],\n",
              "        [13],\n",
              "        [17],\n",
              "        [21]]), array([[ 2],\n",
              "        [ 6],\n",
              "        [10],\n",
              "        [14],\n",
              "        [18],\n",
              "        [22]]), array([[ 3],\n",
              "        [ 7],\n",
              "        [11],\n",
              "        [15],\n",
              "        [19],\n",
              "        [23]])]"
            ]
          },
          "metadata": {
            "tags": []
          },
          "execution_count": 53
        }
      ]
    },
    {
      "cell_type": "markdown",
      "metadata": {
        "id": "c4JFWyu5SbZV"
      },
      "source": [
        "14) vsplit\r\n",
        "\r\n",
        "syntex = np.vspilt(arr,indices_or_sections)\r\n",
        "\r\n",
        "Split an array into multiple sub-arrays vertically."
      ]
    },
    {
      "cell_type": "code",
      "metadata": {
        "id": "xgFbrwXfSffC",
        "colab": {
          "base_uri": "https://localhost:8080/"
        },
        "outputId": "812828ce-6225-45af-930d-b47e6d8f9850"
      },
      "source": [
        "vsp = np.arange(24).reshape(6, 4)\r\n",
        "print(vsp)\r\n",
        "np.vsplit(vsp,3)"
      ],
      "execution_count": 54,
      "outputs": [
        {
          "output_type": "stream",
          "text": [
            "[[ 0  1  2  3]\n",
            " [ 4  5  6  7]\n",
            " [ 8  9 10 11]\n",
            " [12 13 14 15]\n",
            " [16 17 18 19]\n",
            " [20 21 22 23]]\n"
          ],
          "name": "stdout"
        },
        {
          "output_type": "execute_result",
          "data": {
            "text/plain": [
              "[array([[0, 1, 2, 3],\n",
              "        [4, 5, 6, 7]]), array([[ 8,  9, 10, 11],\n",
              "        [12, 13, 14, 15]]), array([[16, 17, 18, 19],\n",
              "        [20, 21, 22, 23]])]"
            ]
          },
          "metadata": {
            "tags": []
          },
          "execution_count": 54
        }
      ]
    },
    {
      "cell_type": "markdown",
      "metadata": {
        "id": "Aq-_yLzBSfvb"
      },
      "source": [
        "15) View vs shallow copy\r\n",
        "\r\n",
        "syntex = array.copy() and array.view()\r\n",
        "\r\n",
        "The copy owns the data and any changes made to the copy will not affect original array, and any changes made to the original array will not affect the copy.\r\n",
        "\r\n",
        "The view does not own the data and any changes made to the view will affect the original array, and any changes made to the original array will affect the view\r\n"
      ]
    },
    {
      "cell_type": "code",
      "metadata": {
        "id": "E7C_deHQSikh",
        "colab": {
          "base_uri": "https://localhost:8080/"
        },
        "outputId": "ab192d71-7bcb-4206-c9f9-55e0268cf075"
      },
      "source": [
        "view_copy = np.array([1, 2, 3, 4, 5]) \r\n",
        "copyarr = view_copy.copy()\r\n",
        "viewarr = view_copy.view() \r\n",
        "view_copy[0] = 10\r\n",
        "print('Original Array',view_copy)\r\n",
        "print('Copy Array',copyarr) #changes on original array does not change it on the copy\r\n",
        "print ('View Fucntion view the array with the lastest chages on the array',viewarr)"
      ],
      "execution_count": 55,
      "outputs": [
        {
          "output_type": "stream",
          "text": [
            "Original Array [10  2  3  4  5]\n",
            "Copy Array [1 2 3 4 5]\n",
            "View Fucntion view the array with the lastest chages on the array [10  2  3  4  5]\n"
          ],
          "name": "stdout"
        }
      ]
    },
    {
      "cell_type": "markdown",
      "metadata": {
        "id": "NYLyAjfTSi2q"
      },
      "source": [
        "16) Deep Copy \r\n",
        "\r\n",
        "syntax = copy.deepcopy()\r\n",
        "\r\n",
        "Any chages in the copy data will not refelect in the original data"
      ]
    },
    {
      "cell_type": "code",
      "metadata": {
        "id": "sggqqdCySnjp",
        "colab": {
          "base_uri": "https://localhost:8080/"
        },
        "outputId": "ffc2037f-9ba0-4614-ee90-30af86154662"
      },
      "source": [
        "import copy\r\n",
        "deepco = np.array([1, 'm', [2, 3, 4]], dtype=object)\r\n",
        "deepco1 = copy.deepcopy(deepco)\r\n",
        "deepco1[2][0] = 10\r\n",
        "print(deepco)\r\n",
        "print(deepco1)"
      ],
      "execution_count": 56,
      "outputs": [
        {
          "output_type": "stream",
          "text": [
            "[1 'm' list([2, 3, 4])]\n",
            "[1 'm' list([10, 3, 4])]\n"
          ],
          "name": "stdout"
        }
      ]
    },
    {
      "cell_type": "markdown",
      "metadata": {
        "id": "opX49KuSSnt4"
      },
      "source": [
        "17)copy()\r\n",
        "\r\n",
        "Syntax = np.copy()\r\n",
        "\r\n",
        "Any changes on the copy data will refelect in the original data also\r\n"
      ]
    },
    {
      "cell_type": "code",
      "metadata": {
        "id": "1ITYInZwSqYF",
        "colab": {
          "base_uri": "https://localhost:8080/"
        },
        "outputId": "1812bd71-8522-419d-fcb9-81be820dc8a8"
      },
      "source": [
        "npcopy = np.array([1, 'm', [2, 3, 4]], dtype=object)\r\n",
        "npcopy1 = np.copy(npcopy)\r\n",
        "npcopy1[2][0] = 10\r\n",
        "print(npcopy)\r\n",
        "print(npcopy1)"
      ],
      "execution_count": 57,
      "outputs": [
        {
          "output_type": "stream",
          "text": [
            "[1 'm' list([10, 3, 4])]\n",
            "[1 'm' list([10, 3, 4])]\n"
          ],
          "name": "stdout"
        }
      ]
    },
    {
      "cell_type": "markdown",
      "metadata": {
        "id": "6dXgVClTSqqC"
      },
      "source": [
        "18) meshgrid()\r\n",
        "\r\n",
        "syntax = np.meshgrid(*xi, copy=True, sparse=False, indexing='xy')\r\n",
        "\r\n",
        "Return coordinate matrices from coordinate vectors.\r\n",
        "\r\n",
        "Make N-D coordinate arrays for vectorized evaluations of N-D scalar/vector fields over N-D grids, given one-dimensional coordinate arrays x1, x2,…, xn."
      ]
    },
    {
      "cell_type": "code",
      "metadata": {
        "id": "fbqJlsMlSuUH",
        "colab": {
          "base_uri": "https://localhost:8080/"
        },
        "outputId": "4a216940-8297-4d10-dbd4-1a0c746cb199"
      },
      "source": [
        "nx, ny = (3, 2)\r\n",
        "x = np.linspace(0, 1, nx)\r\n",
        "y = np.linspace(0, 1, ny)\r\n",
        "xv, yv = np.meshgrid(x, y)\r\n",
        "print(xv)\r\n",
        "print(yv)\r\n",
        "vv, yy = np.meshgrid(x, y, sparse=True)  # make sparse output arrays\r\n",
        "print(vv)\r\n",
        "print(yy)"
      ],
      "execution_count": 58,
      "outputs": [
        {
          "output_type": "stream",
          "text": [
            "[[0.  0.5 1. ]\n",
            " [0.  0.5 1. ]]\n",
            "[[0. 0. 0.]\n",
            " [1. 1. 1.]]\n",
            "[[0.  0.5 1. ]]\n",
            "[[0.]\n",
            " [1.]]\n"
          ],
          "name": "stdout"
        }
      ]
    },
    {
      "cell_type": "markdown",
      "metadata": {
        "id": "4r39RQJXSukZ"
      },
      "source": [
        "19) swapaxes()\r\n",
        "\r\n",
        "syntax = np.swapaxes(a, axis1, axis2)\r\n",
        "\r\n",
        "Interchange two axes of an array."
      ]
    },
    {
      "cell_type": "code",
      "metadata": {
        "id": "2THljBHPS-9M",
        "colab": {
          "base_uri": "https://localhost:8080/"
        },
        "outputId": "8eaee0dd-4a9d-48a7-c2dc-e2c23b0672a8"
      },
      "source": [
        "swapax = np.array([[1,2,3]])\r\n",
        "swapax1= np.swapaxes(swapax,0,1)\r\n",
        "print(swapax1)\r\n",
        "\r\n",
        "swapax2 = np.array([[[0,1],[2,3]],[[4,5],[6,7]]])\r\n",
        "print(swapax2)\r\n",
        "print()\r\n",
        "swapax3 = np.swapaxes(swapax2,0,2)\r\n",
        "print(swapax3)"
      ],
      "execution_count": 59,
      "outputs": [
        {
          "output_type": "stream",
          "text": [
            "[[1]\n",
            " [2]\n",
            " [3]]\n",
            "[[[0 1]\n",
            "  [2 3]]\n",
            "\n",
            " [[4 5]\n",
            "  [6 7]]]\n",
            "\n",
            "[[[0 4]\n",
            "  [2 6]]\n",
            "\n",
            " [[1 5]\n",
            "  [3 7]]]\n"
          ],
          "name": "stdout"
        }
      ]
    },
    {
      "cell_type": "markdown",
      "metadata": {
        "id": "ZG3nW2_zS_Pt"
      },
      "source": [
        "20) column_stack()\r\n",
        "\r\n",
        "syntax = np.column_stack()\r\n",
        "\r\n",
        "Stack 1-D arrays as columns into a 2-D array.\r\n",
        "\r\n",
        "Take a sequence of 1-D arrays and stack them as columns to make a single 2-D array. 2-D arrays are stacked as-is, just like with hstack. 1-D arrays are turned into 2-D columns first."
      ]
    },
    {
      "cell_type": "code",
      "metadata": {
        "id": "x9XoPhqUTEff",
        "colab": {
          "base_uri": "https://localhost:8080/"
        },
        "outputId": "26042a6e-1005-4fc8-cb39-4fa215e007ee"
      },
      "source": [
        "c_Stack = np.array((1,2,3))\r\n",
        "c_Stack1 = np.array((2,3,4))\r\n",
        "np.column_stack((c_Stack,c_Stack1))"
      ],
      "execution_count": 60,
      "outputs": [
        {
          "output_type": "execute_result",
          "data": {
            "text/plain": [
              "array([[1, 2],\n",
              "       [2, 3],\n",
              "       [3, 4]])"
            ]
          },
          "metadata": {
            "tags": []
          },
          "execution_count": 60
        }
      ]
    }
  ]
}